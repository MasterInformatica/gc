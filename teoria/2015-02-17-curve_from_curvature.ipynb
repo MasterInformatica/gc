{
 "metadata": {
  "name": "curve_from_curvature"
 },
 "nbformat": 3,
 "nbformat_minor": 0,
 "worksheets": [
  {
   "cells": [
    {
     "cell_type": "code",
     "collapsed": false,
     "input": "import numpy as np\nimport matplotlib.pyplot as plt\nfrom scipy.integrate import odeint\n",
     "language": "python",
     "metadata": {},
     "outputs": [],
     "prompt_number": 18
    },
    {
     "cell_type": "code",
     "collapsed": false,
     "input": "odeint?",
     "language": "python",
     "metadata": {},
     "outputs": [],
     "prompt_number": 2
    },
    {
     "cell_type": "code",
     "collapsed": false,
     "input": "def k(s):\n    #return 0\n    #return 1\n    return s * (s - 3) * (s + 5) \n\ndef rhs_eqs(Y, s):\n    x, y, dx, dy = Y\n    return [dx, dy, -k(s) * dy, k(s) * dx]",
     "language": "python",
     "metadata": {},
     "outputs": [],
     "prompt_number": 30
    },
    {
     "cell_type": "code",
     "collapsed": false,
     "input": "x0, y0 = 0, 0\ndx0, dy0 = 1, 0\ninit_cond = [x0, y0, dx0, dy0]\n\ndelta = 0.01\n#interval = np.arange(0, 1  + delta, delta)\n#interval = np.arange(0, 2 * np.pi  + delta, delta)\ninterval = np.arange(-10, 10  + delta, delta)\n\n\n",
     "language": "python",
     "metadata": {},
     "outputs": [],
     "prompt_number": 43
    },
    {
     "cell_type": "code",
     "collapsed": false,
     "input": "",
     "language": "python",
     "metadata": {},
     "outputs": [],
     "prompt_number": 43
    },
    {
     "cell_type": "code",
     "collapsed": false,
     "input": "solu = odeint(rhs_eqs, init_cond, interval)",
     "language": "python",
     "metadata": {},
     "outputs": [],
     "prompt_number": 44
    },
    {
     "cell_type": "code",
     "collapsed": false,
     "input": "curve_x = [x for [x, y, dx, dy] in solu]\ncurve_y = [y for [x, y, dx, dy] in solu]",
     "language": "python",
     "metadata": {},
     "outputs": [],
     "prompt_number": 45
    },
    {
     "cell_type": "code",
     "collapsed": false,
     "input": "plt.plot(curve_x, curve_y)",
     "language": "python",
     "metadata": {},
     "outputs": [
      {
       "metadata": {},
       "output_type": "pyout",
       "prompt_number": 46,
       "text": "[<matplotlib.lines.Line2D at 0x7f4cafe2ae50>]"
      }
     ],
     "prompt_number": 46
    },
    {
     "cell_type": "code",
     "collapsed": false,
     "input": "plt.show()",
     "language": "python",
     "metadata": {},
     "outputs": [],
     "prompt_number": 47
    },
    {
     "cell_type": "code",
     "collapsed": false,
     "input": "",
     "language": "python",
     "metadata": {},
     "outputs": []
    }
   ],
   "metadata": {}
  }
 ]
}