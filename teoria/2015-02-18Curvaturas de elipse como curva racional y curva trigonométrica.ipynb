{
 "metadata": {
  "name": "Curvaturas de elipse como curva racional y curva trigonom\u00e9trica"
 },
 "nbformat": 3,
 "nbformat_minor": 0,
 "worksheets": [
  {
   "cells": [
    {
     "cell_type": "code",
     "collapsed": false,
     "input": "import sympy as sp\nfrom sympy.interactive import printing\nprinting.init_printing(use_latex=True)",
     "language": "python",
     "metadata": {},
     "outputs": [],
     "prompt_number": 8
    },
    {
     "cell_type": "code",
     "collapsed": false,
     "input": "t, x, y = sp.symbols('t, x, y')",
     "language": "python",
     "metadata": {},
     "outputs": [],
     "prompt_number": 2
    },
    {
     "cell_type": "code",
     "collapsed": false,
     "input": "ellipse = x**2 / 4 + y**2 / 9 - 1",
     "language": "python",
     "metadata": {},
     "outputs": [],
     "prompt_number": 5
    },
    {
     "cell_type": "code",
     "collapsed": false,
     "input": "line = y - t*(x - 2)",
     "language": "python",
     "metadata": {},
     "outputs": [],
     "prompt_number": 4
    },
    {
     "cell_type": "code",
     "collapsed": false,
     "input": "solus = sp.solve([line, ellipse], [x, y], dict=True)[1]; solus",
     "language": "python",
     "metadata": {},
     "outputs": [
      {
       "latex": "$$\\left \\{ x : \\frac{8 t^{2} - 18}{4 t^{2} + 9}, \\quad y : - \\frac{36 t}{4 t^{2} + 9}\\right \\}$$",
       "metadata": {},
       "output_type": "pyout",
       "png": "[encoded data removed]",
       "prompt_number": 12,
       "text": "\u23a7     \u239b   2    \u239e             \u23ab\n\u23aa   2\u22c5\u239d4\u22c5t  - 9\u23a0      -36\u22c5t  \u23aa\n\u23a8x: \u2500\u2500\u2500\u2500\u2500\u2500\u2500\u2500\u2500\u2500\u2500\u2500, y: \u2500\u2500\u2500\u2500\u2500\u2500\u2500\u2500\u23ac\n\u23aa        2              2    \u23aa\n\u23a9     4\u22c5t  + 9       4\u22c5t  + 9\u23ad"
      }
     ],
     "prompt_number": 12
    },
    {
     "cell_type": "code",
     "collapsed": false,
     "input": "x0, y0 = solus[x], solus[y]; x0, y0",
     "language": "python",
     "metadata": {},
     "outputs": [
      {
       "latex": "$$\\left ( \\frac{8 t^{2} - 18}{4 t^{2} + 9}, \\quad - \\frac{36 t}{4 t^{2} + 9}\\right )$$",
       "metadata": {},
       "output_type": "pyout",
       "png": "[encoded data removed]",
       "prompt_number": 14,
       "text": "\u239b  \u239b   2    \u239e          \u239e\n\u239c2\u22c5\u239d4\u22c5t  - 9\u23a0   -36\u22c5t  \u239f\n\u239c\u2500\u2500\u2500\u2500\u2500\u2500\u2500\u2500\u2500\u2500\u2500\u2500, \u2500\u2500\u2500\u2500\u2500\u2500\u2500\u2500\u239f\n\u239c     2           2    \u239f\n\u239d  4\u22c5t  + 9    4\u22c5t  + 9\u23a0"
      }
     ],
     "prompt_number": 14
    },
    {
     "cell_type": "markdown",
     "metadata": {},
     "source": ""
    },
    {
     "cell_type": "code",
     "collapsed": false,
     "input": "sp.plotting.plot_parametric(x0, y0, (t, -10, 10))",
     "language": "python",
     "metadata": {},
     "outputs": [
      {
       "metadata": {},
       "output_type": "pyout",
       "prompt_number": 19,
       "text": "<sympy.plotting.plot.Plot at 0x7f2b68e44b50>"
      }
     ],
     "prompt_number": 19
    },
    {
     "cell_type": "code",
     "collapsed": false,
     "input": "x1, y1 = 2*sp.cos(t), 3*sp.sin(t)",
     "language": "python",
     "metadata": {},
     "outputs": [],
     "prompt_number": 23
    },
    {
     "cell_type": "code",
     "collapsed": false,
     "input": "",
     "language": "python",
     "metadata": {},
     "outputs": []
    },
    {
     "cell_type": "code",
     "collapsed": false,
     "input": "dx0, dy0 = x0.diff(t), y0.diff(t)\ndx1, dy1 = x1.diff(t), y1.diff(t)",
     "language": "python",
     "metadata": {},
     "outputs": [],
     "prompt_number": 24
    },
    {
     "cell_type": "code",
     "collapsed": false,
     "input": "d2x0, d2y0 = x0.diff(t, 2), y0.diff(t, 2)\nd2x1, d2y1 = x1.diff(t, 2), y1.diff(t, 2)",
     "language": "python",
     "metadata": {},
     "outputs": [],
     "prompt_number": 25
    },
    {
     "cell_type": "code",
     "collapsed": false,
     "input": "norma_dx0 = sp.sqrt(dx0**2 + dy0**2)\nk0 = (dx0 * d2y0 - dy0 * d2x0) / norma_dx0**3",
     "language": "python",
     "metadata": {},
     "outputs": [],
     "prompt_number": 20
    },
    {
     "cell_type": "code",
     "collapsed": false,
     "input": "norma_dx1 = sp.sqrt(dx1**2 + dy1**2)\nk1 = (dx1 * d2y1 - dy1 * d2x1) / norma_dx1**3",
     "language": "python",
     "metadata": {},
     "outputs": [],
     "prompt_number": 26
    },
    {
     "cell_type": "code",
     "collapsed": false,
     "input": "k0.simplify()",
     "language": "python",
     "metadata": {},
     "outputs": [
      {
       "latex": "$$\\frac{8 t^{2} + 18}{9 \\sqrt{\\frac{16 t^{4} - 8 t^{2} + 81}{256 t^{8} + 2304 t^{6} + 7776 t^{4} + 11664 t^{2} + 6561}} \\left(16 t^{4} - 8 t^{2} + 81\\right)}$$",
       "metadata": {},
       "output_type": "pyout",
       "png": "[encoded data removed]",
       "prompt_number": 22,
       "text": "                                 \u239b   2    \u239e                               \n                               2\u22c5\u239d4\u22c5t  + 9\u23a0                               \n\u2500\u2500\u2500\u2500\u2500\u2500\u2500\u2500\u2500\u2500\u2500\u2500\u2500\u2500\u2500\u2500\u2500\u2500\u2500\u2500\u2500\u2500\u2500\u2500\u2500\u2500\u2500\u2500\u2500\u2500\u2500\u2500\u2500\u2500\u2500\u2500\u2500\u2500\u2500\u2500\u2500\u2500\u2500\u2500\u2500\u2500\u2500\u2500\u2500\u2500\u2500\u2500\u2500\u2500\u2500\u2500\u2500\u2500\u2500\u2500\u2500\u2500\u2500\u2500\u2500\u2500\u2500\u2500\u2500\u2500\u2500\u2500\u2500\u2500\n        ______________________________________________                    \n       \u2571                  4      2                                        \n      \u2571               16\u22c5t  - 8\u22c5t  + 81                \u239b    4      2     \u239e\n9\u22c5   \u2571   \u2500\u2500\u2500\u2500\u2500\u2500\u2500\u2500\u2500\u2500\u2500\u2500\u2500\u2500\u2500\u2500\u2500\u2500\u2500\u2500\u2500\u2500\u2500\u2500\u2500\u2500\u2500\u2500\u2500\u2500\u2500\u2500\u2500\u2500\u2500\u2500\u2500\u2500\u2500\u2500\u2500\u2500\u2500\u2500 \u22c5\u239d16\u22c5t  - 8\u22c5t  + 81\u23a0\n    \u2571         8         6         4          2                            \n  \u2572\u2571     256\u22c5t  + 2304\u22c5t  + 7776\u22c5t  + 11664\u22c5t  + 6561                     "
      }
     ],
     "prompt_number": 22
    },
    {
     "cell_type": "code",
     "collapsed": false,
     "input": "k1.simplify()",
     "language": "python",
     "metadata": {},
     "outputs": [
      {
       "latex": "$$\\frac{6}{\\left(- 5 \\sin^{2}{\\left (t \\right )} + 9\\right)^{\\frac{3}{2}}}$$",
       "metadata": {},
       "output_type": "pyout",
       "png": "[encoded data removed]",
       "prompt_number": 27,
       "text": "         6          \n\u2500\u2500\u2500\u2500\u2500\u2500\u2500\u2500\u2500\u2500\u2500\u2500\u2500\u2500\u2500\u2500\u2500\u2500\u2500\u2500\n                 3/2\n\u239b       2       \u239e   \n\u239d- 5\u22c5sin (t) + 9\u23a0   "
      }
     ],
     "prompt_number": 27
    },
    {
     "cell_type": "code",
     "collapsed": false,
     "input": "sp.plot(k0, (t, -10, 10))",
     "language": "python",
     "metadata": {},
     "outputs": [
      {
       "metadata": {},
       "output_type": "pyout",
       "prompt_number": 28,
       "text": "<sympy.plotting.plot.Plot at 0x7f2b6884fd50>"
      }
     ],
     "prompt_number": 28
    },
    {
     "cell_type": "code",
     "collapsed": false,
     "input": "sp.plot(k1, (t, 0, 2*sp.pi))",
     "language": "python",
     "metadata": {},
     "outputs": [],
     "prompt_number": "*"
    },
    {
     "cell_type": "code",
     "collapsed": false,
     "input": "",
     "language": "python",
     "metadata": {},
     "outputs": []
    }
   ],
   "metadata": {}
  }
 ]
}